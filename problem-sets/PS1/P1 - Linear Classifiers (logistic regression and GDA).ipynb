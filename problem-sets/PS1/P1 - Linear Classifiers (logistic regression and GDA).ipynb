{
 "cells": [
  {
   "attachments": {},
   "cell_type": "markdown",
   "metadata": {},
   "source": [
    "<h1>Linear Classifiers (logistic regression and GDA)</h1>\n",
    "<p>In this problem, we cover two probabilistic linear classifiers we have covered in class so far.\n",
    "First, a discriminative linear classifier: logistic regression. Second, a generative linear classifier:\n",
    "Gaussian discriminant analysis (GDA). Both the algorithms find a linear decision boundary that\n",
    "separates the data into two classes, but make different assumptions. Our goal in this problem is\n",
    "to get a deeper understanding of the similarities and differences (and, strengths and weaknesses)\n",
    "of these two algorithms.</p>\n"
   ]
  },
  {
   "attachments": {},
   "cell_type": "markdown",
   "metadata": {},
   "source": [
    "<h3>(a)</h3>"
   ]
  }
 ],
 "metadata": {
  "kernelspec": {
   "display_name": "Python 3",
   "language": "python",
   "name": "python3"
  },
  "language_info": {
   "name": "python",
   "version": "3.8.10 (default, Nov 14 2022, 12:59:47) \n[GCC 9.4.0]"
  },
  "orig_nbformat": 4,
  "vscode": {
   "interpreter": {
    "hash": "916dbcbb3f70747c44a77c7bcd40155683ae19c65e1c03b4aa3499c5328201f1"
   }
  }
 },
 "nbformat": 4,
 "nbformat_minor": 2
}
